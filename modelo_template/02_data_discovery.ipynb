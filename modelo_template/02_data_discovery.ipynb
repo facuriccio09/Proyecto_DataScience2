{
 "cells": [
  {
   "cell_type": "code",
   "execution_count": 15,
   "metadata": {},
   "outputs": [],
   "source": [
    "# Realizo las importaciones necesarias\n",
    "import pandas as pd\n",
    "import numpy as np"
   ]
  },
  {
   "cell_type": "markdown",
   "metadata": {},
   "source": [
    "### **Carga de Datos**"
   ]
  },
  {
   "cell_type": "code",
   "execution_count": 16,
   "metadata": {},
   "outputs": [],
   "source": [
    "# Cargo los datos\n",
    "df_pizzas = pd.read_csv(\"E:/Coderhouse/Data Science/2 - Machine Learning para la CIencia de Datos/Proyecto Data Science #2/data/pizzas_merge.csv\")"
   ]
  },
  {
   "cell_type": "code",
   "execution_count": 3,
   "metadata": {},
   "outputs": [
    {
     "data": {
      "text/html": [
       "<div>\n",
       "<style scoped>\n",
       "    .dataframe tbody tr th:only-of-type {\n",
       "        vertical-align: middle;\n",
       "    }\n",
       "\n",
       "    .dataframe tbody tr th {\n",
       "        vertical-align: top;\n",
       "    }\n",
       "\n",
       "    .dataframe thead th {\n",
       "        text-align: right;\n",
       "    }\n",
       "</style>\n",
       "<table border=\"1\" class=\"dataframe\">\n",
       "  <thead>\n",
       "    <tr style=\"text-align: right;\">\n",
       "      <th></th>\n",
       "      <th>order_details_id</th>\n",
       "      <th>order_id</th>\n",
       "      <th>pizza_id</th>\n",
       "      <th>quantity</th>\n",
       "      <th>date</th>\n",
       "      <th>time</th>\n",
       "      <th>pizza_type_id</th>\n",
       "      <th>size</th>\n",
       "      <th>price</th>\n",
       "      <th>name</th>\n",
       "      <th>category</th>\n",
       "      <th>ingredients</th>\n",
       "    </tr>\n",
       "  </thead>\n",
       "  <tbody>\n",
       "    <tr>\n",
       "      <th>11783</th>\n",
       "      <td>11784</td>\n",
       "      <td>5180</td>\n",
       "      <td>spinach_supr_l</td>\n",
       "      <td>1</td>\n",
       "      <td>2015-03-28</td>\n",
       "      <td>19:48:11</td>\n",
       "      <td>spinach_supr</td>\n",
       "      <td>L</td>\n",
       "      <td>20.75</td>\n",
       "      <td>The Spinach Supreme Pizza</td>\n",
       "      <td>Supreme</td>\n",
       "      <td>Spinach, Red Onions, Pepperoni, Tomatoes, Arti...</td>\n",
       "    </tr>\n",
       "    <tr>\n",
       "      <th>21530</th>\n",
       "      <td>21531</td>\n",
       "      <td>9450</td>\n",
       "      <td>five_cheese_l</td>\n",
       "      <td>1</td>\n",
       "      <td>2015-06-08</td>\n",
       "      <td>12:00:36</td>\n",
       "      <td>five_cheese</td>\n",
       "      <td>L</td>\n",
       "      <td>18.50</td>\n",
       "      <td>The Five Cheese Pizza</td>\n",
       "      <td>Veggie</td>\n",
       "      <td>Mozzarella Cheese, Provolone Cheese, Smoked Go...</td>\n",
       "    </tr>\n",
       "    <tr>\n",
       "      <th>25270</th>\n",
       "      <td>25271</td>\n",
       "      <td>11121</td>\n",
       "      <td>spicy_ital_l</td>\n",
       "      <td>1</td>\n",
       "      <td>2015-07-04</td>\n",
       "      <td>23:02:47</td>\n",
       "      <td>spicy_ital</td>\n",
       "      <td>L</td>\n",
       "      <td>20.75</td>\n",
       "      <td>The Spicy Italian Pizza</td>\n",
       "      <td>Supreme</td>\n",
       "      <td>Capocollo, Tomatoes, Goat Cheese, Artichokes, ...</td>\n",
       "    </tr>\n",
       "    <tr>\n",
       "      <th>40348</th>\n",
       "      <td>40349</td>\n",
       "      <td>17781</td>\n",
       "      <td>sicilian_l</td>\n",
       "      <td>1</td>\n",
       "      <td>2015-10-30</td>\n",
       "      <td>17:18:57</td>\n",
       "      <td>sicilian</td>\n",
       "      <td>L</td>\n",
       "      <td>20.25</td>\n",
       "      <td>The Sicilian Pizza</td>\n",
       "      <td>Supreme</td>\n",
       "      <td>Coarse Sicilian Salami, Tomatoes, Green Olives...</td>\n",
       "    </tr>\n",
       "    <tr>\n",
       "      <th>3040</th>\n",
       "      <td>3041</td>\n",
       "      <td>1341</td>\n",
       "      <td>four_cheese_l</td>\n",
       "      <td>1</td>\n",
       "      <td>2015-01-23</td>\n",
       "      <td>14:15:37</td>\n",
       "      <td>four_cheese</td>\n",
       "      <td>L</td>\n",
       "      <td>17.95</td>\n",
       "      <td>The Four Cheese Pizza</td>\n",
       "      <td>Veggie</td>\n",
       "      <td>Ricotta Cheese, Gorgonzola Piccante Cheese, Mo...</td>\n",
       "    </tr>\n",
       "  </tbody>\n",
       "</table>\n",
       "</div>"
      ],
      "text/plain": [
       "       order_details_id  order_id        pizza_id  quantity        date  \\\n",
       "11783             11784      5180  spinach_supr_l         1  2015-03-28   \n",
       "21530             21531      9450   five_cheese_l         1  2015-06-08   \n",
       "25270             25271     11121    spicy_ital_l         1  2015-07-04   \n",
       "40348             40349     17781      sicilian_l         1  2015-10-30   \n",
       "3040               3041      1341   four_cheese_l         1  2015-01-23   \n",
       "\n",
       "           time pizza_type_id size  price                       name category  \\\n",
       "11783  19:48:11  spinach_supr    L  20.75  The Spinach Supreme Pizza  Supreme   \n",
       "21530  12:00:36   five_cheese    L  18.50      The Five Cheese Pizza   Veggie   \n",
       "25270  23:02:47    spicy_ital    L  20.75    The Spicy Italian Pizza  Supreme   \n",
       "40348  17:18:57      sicilian    L  20.25         The Sicilian Pizza  Supreme   \n",
       "3040   14:15:37   four_cheese    L  17.95      The Four Cheese Pizza   Veggie   \n",
       "\n",
       "                                             ingredients  \n",
       "11783  Spinach, Red Onions, Pepperoni, Tomatoes, Arti...  \n",
       "21530  Mozzarella Cheese, Provolone Cheese, Smoked Go...  \n",
       "25270  Capocollo, Tomatoes, Goat Cheese, Artichokes, ...  \n",
       "40348  Coarse Sicilian Salami, Tomatoes, Green Olives...  \n",
       "3040   Ricotta Cheese, Gorgonzola Piccante Cheese, Mo...  "
      ]
     },
     "execution_count": 3,
     "metadata": {},
     "output_type": "execute_result"
    }
   ],
   "source": [
    "df_pizzas.sample(5)"
   ]
  },
  {
   "cell_type": "markdown",
   "metadata": {},
   "source": [
    "### **Valores Nulos**"
   ]
  },
  {
   "cell_type": "code",
   "execution_count": 4,
   "metadata": {},
   "outputs": [
    {
     "name": "stdout",
     "output_type": "stream",
     "text": [
      "<class 'pandas.core.frame.DataFrame'>\n",
      "RangeIndex: 48620 entries, 0 to 48619\n",
      "Data columns (total 12 columns):\n",
      " #   Column            Non-Null Count  Dtype  \n",
      "---  ------            --------------  -----  \n",
      " 0   order_details_id  48620 non-null  int64  \n",
      " 1   order_id          48620 non-null  int64  \n",
      " 2   pizza_id          48620 non-null  object \n",
      " 3   quantity          48620 non-null  int64  \n",
      " 4   date              48620 non-null  object \n",
      " 5   time              48620 non-null  object \n",
      " 6   pizza_type_id     48620 non-null  object \n",
      " 7   size              48620 non-null  object \n",
      " 8   price             48620 non-null  float64\n",
      " 9   name              48620 non-null  object \n",
      " 10  category          48620 non-null  object \n",
      " 11  ingredients       48620 non-null  object \n",
      "dtypes: float64(1), int64(3), object(8)\n",
      "memory usage: 4.5+ MB\n"
     ]
    }
   ],
   "source": [
    "df_pizzas.info()"
   ]
  },
  {
   "cell_type": "code",
   "execution_count": 5,
   "metadata": {},
   "outputs": [
    {
     "data": {
      "text/plain": [
       "(48620, 12)"
      ]
     },
     "execution_count": 5,
     "metadata": {},
     "output_type": "execute_result"
    }
   ],
   "source": [
    "df_pizzas.shape"
   ]
  },
  {
   "cell_type": "code",
   "execution_count": 6,
   "metadata": {},
   "outputs": [
    {
     "data": {
      "text/plain": [
       "order_details_id    0\n",
       "order_id            0\n",
       "pizza_id            0\n",
       "quantity            0\n",
       "date                0\n",
       "time                0\n",
       "pizza_type_id       0\n",
       "size                0\n",
       "price               0\n",
       "name                0\n",
       "category            0\n",
       "ingredients         0\n",
       "dtype: int64"
      ]
     },
     "execution_count": 6,
     "metadata": {},
     "output_type": "execute_result"
    }
   ],
   "source": [
    "#Por cantidad\n",
    "df_pizzas.isnull().sum()"
   ]
  },
  {
   "cell_type": "code",
   "execution_count": 8,
   "metadata": {},
   "outputs": [
    {
     "data": {
      "text/plain": [
       "order_details_id    0.0\n",
       "order_id            0.0\n",
       "pizza_id            0.0\n",
       "quantity            0.0\n",
       "date                0.0\n",
       "time                0.0\n",
       "pizza_type_id       0.0\n",
       "size                0.0\n",
       "price               0.0\n",
       "name                0.0\n",
       "category            0.0\n",
       "ingredients         0.0\n",
       "dtype: float64"
      ]
     },
     "execution_count": 8,
     "metadata": {},
     "output_type": "execute_result"
    }
   ],
   "source": [
    "#Por porcentaje\n",
    "(df_pizzas.isnull().sum()/df_pizzas.shape[0])*100"
   ]
  },
  {
   "cell_type": "markdown",
   "metadata": {},
   "source": [
    "### **Duplicados**"
   ]
  },
  {
   "cell_type": "code",
   "execution_count": 9,
   "metadata": {},
   "outputs": [
    {
     "data": {
      "text/plain": [
       "0"
      ]
     },
     "execution_count": 9,
     "metadata": {},
     "output_type": "execute_result"
    }
   ],
   "source": [
    "# A nivel general\n",
    "df_pizzas.duplicated().sum()"
   ]
  },
  {
   "cell_type": "code",
   "execution_count": 13,
   "metadata": {},
   "outputs": [
    {
     "data": {
      "text/plain": [
       "Index(['order_details_id', 'order_id', 'pizza_id', 'quantity', 'date', 'time',\n",
       "       'pizza_type_id', 'size', 'price', 'name', 'category', 'ingredients'],\n",
       "      dtype='object')"
      ]
     },
     "execution_count": 13,
     "metadata": {},
     "output_type": "execute_result"
    }
   ],
   "source": [
    "df_pizzas.columns"
   ]
  },
  {
   "cell_type": "code",
   "execution_count": 19,
   "metadata": {},
   "outputs": [
    {
     "name": "stdout",
     "output_type": "stream",
     "text": [
      "La columna: pizza_id:\n",
      "Cantidad de categorias: 91\n",
      "Los valores unicos son: ['hawaiian_m' 'classic_dlx_m' 'five_cheese_l' 'ital_supr_l' 'mexicana_m'\n",
      " 'thai_ckn_l' 'ital_supr_m' 'prsc_argla_l' 'bbq_ckn_s' 'the_greek_s'\n",
      " 'spinach_supr_s' 'classic_dlx_s' 'green_garden_s' 'ital_cpcllo_l'\n",
      " 'ital_supr_s' 'mexicana_s' 'spicy_ital_l' 'spin_pesto_l' 'veggie_veg_s'\n",
      " 'mexicana_l' 'southw_ckn_l' 'bbq_ckn_l' 'cali_ckn_l' 'cali_ckn_m'\n",
      " 'pepperoni_l' 'cali_ckn_s' 'ckn_pesto_l' 'big_meat_s' 'soppressata_l'\n",
      " 'four_cheese_l' 'napolitana_s' 'calabrese_m' 'four_cheese_m'\n",
      " 'ital_veggie_s' 'mediterraneo_m' 'peppr_salami_s' 'spinach_fet_l'\n",
      " 'napolitana_l' 'sicilian_l' 'ital_cpcllo_m' 'southw_ckn_s' 'bbq_ckn_m'\n",
      " 'pepperoni_m' 'prsc_argla_s' 'sicilian_m' 'veggie_veg_l' 'ckn_alfredo_s'\n",
      " 'pepperoni_s' 'green_garden_l' 'green_garden_m' 'pep_msh_pep_l'\n",
      " 'hawaiian_s' 'peppr_salami_m' 'ckn_alfredo_m' 'peppr_salami_l'\n",
      " 'spin_pesto_s' 'thai_ckn_m' 'classic_dlx_l' 'ckn_pesto_m' 'the_greek_xl'\n",
      " 'hawaiian_l' 'pep_msh_pep_s' 'spinach_supr_m' 'prsc_argla_m'\n",
      " 'mediterraneo_l' 'southw_ckn_m' 'pep_msh_pep_m' 'sicilian_s'\n",
      " 'spicy_ital_s' 'thai_ckn_s' 'spinach_supr_l' 'ital_veggie_l'\n",
      " 'veggie_veg_m' 'the_greek_m' 'ckn_pesto_s' 'spinach_fet_s' 'spicy_ital_m'\n",
      " 'ital_veggie_m' 'ital_cpcllo_s' 'mediterraneo_s' 'spinach_fet_m'\n",
      " 'napolitana_m' 'spin_pesto_m' 'brie_carre_s' 'ckn_alfredo_l'\n",
      " 'calabrese_s' 'the_greek_l' 'soppressata_m' 'soppressata_s' 'calabrese_l'\n",
      " 'the_greek_xxl']\n",
      "-----------------------------------\n",
      "La columna: date:\n",
      "Cantidad de categorias: 358\n",
      "Los valores unicos son: ['2015-01-01' '2015-01-02' '2015-01-03' '2015-01-04' '2015-01-05'\n",
      " '2015-01-06' '2015-01-07' '2015-01-08' '2015-01-09' '2015-01-10'\n",
      " '2015-01-11' '2015-01-12' '2015-01-13' '2015-01-14' '2015-01-15'\n",
      " '2015-01-16' '2015-01-17' '2015-01-18' '2015-01-19' '2015-01-20'\n",
      " '2015-01-21' '2015-01-22' '2015-01-23' '2015-01-24' '2015-01-25'\n",
      " '2015-01-26' '2015-01-27' '2015-01-28' '2015-01-29' '2015-01-30'\n",
      " '2015-01-31' '2015-02-01' '2015-02-02' '2015-02-03' '2015-02-04'\n",
      " '2015-02-05' '2015-02-06' '2015-02-07' '2015-02-08' '2015-02-09'\n",
      " '2015-02-10' '2015-02-11' '2015-02-12' '2015-02-13' '2015-02-14'\n",
      " '2015-02-15' '2015-02-16' '2015-02-17' '2015-02-18' '2015-02-19'\n",
      " '2015-02-20' '2015-02-21' '2015-02-22' '2015-02-23' '2015-02-24'\n",
      " '2015-02-25' '2015-02-26' '2015-02-27' '2015-02-28' '2015-03-01'\n",
      " '2015-03-02' '2015-03-03' '2015-03-04' '2015-03-05' '2015-03-06'\n",
      " '2015-03-07' '2015-03-08' '2015-03-09' '2015-03-10' '2015-03-11'\n",
      " '2015-03-12' '2015-03-13' '2015-03-14' '2015-03-15' '2015-03-16'\n",
      " '2015-03-17' '2015-03-18' '2015-03-19' '2015-03-20' '2015-03-21'\n",
      " '2015-03-22' '2015-03-23' '2015-03-24' '2015-03-25' '2015-03-26'\n",
      " '2015-03-27' '2015-03-28' '2015-03-29' '2015-03-30' '2015-03-31'\n",
      " '2015-04-01' '2015-04-02' '2015-04-03' '2015-04-04' '2015-04-05'\n",
      " '2015-04-06' '2015-04-07' '2015-04-08' '2015-04-09' '2015-04-10'\n",
      " '2015-04-11' '2015-04-12' '2015-04-13' '2015-04-14' '2015-04-15'\n",
      " '2015-04-16' '2015-04-17' '2015-04-18' '2015-04-19' '2015-04-20'\n",
      " '2015-04-21' '2015-04-22' '2015-04-23' '2015-04-24' '2015-04-25'\n",
      " '2015-04-26' '2015-04-27' '2015-04-28' '2015-04-29' '2015-04-30'\n",
      " '2015-05-01' '2015-05-02' '2015-05-03' '2015-05-04' '2015-05-05'\n",
      " '2015-05-06' '2015-05-07' '2015-05-08' '2015-05-09' '2015-05-10'\n",
      " '2015-05-11' '2015-05-12' '2015-05-13' '2015-05-14' '2015-05-15'\n",
      " '2015-05-16' '2015-05-17' '2015-05-18' '2015-05-19' '2015-05-20'\n",
      " '2015-05-21' '2015-05-22' '2015-05-23' '2015-05-24' '2015-05-25'\n",
      " '2015-05-26' '2015-05-27' '2015-05-28' '2015-05-29' '2015-05-30'\n",
      " '2015-05-31' '2015-06-01' '2015-06-02' '2015-06-03' '2015-06-04'\n",
      " '2015-06-05' '2015-06-06' '2015-06-07' '2015-06-08' '2015-06-09'\n",
      " '2015-06-10' '2015-06-11' '2015-06-12' '2015-06-13' '2015-06-14'\n",
      " '2015-06-15' '2015-06-16' '2015-06-17' '2015-06-18' '2015-06-19'\n",
      " '2015-06-20' '2015-06-21' '2015-06-22' '2015-06-23' '2015-06-24'\n",
      " '2015-06-25' '2015-06-26' '2015-06-27' '2015-06-28' '2015-06-29'\n",
      " '2015-06-30' '2015-07-01' '2015-07-02' '2015-07-03' '2015-07-04'\n",
      " '2015-07-05' '2015-07-06' '2015-07-07' '2015-07-08' '2015-07-09'\n",
      " '2015-07-10' '2015-07-11' '2015-07-12' '2015-07-13' '2015-07-14'\n",
      " '2015-07-15' '2015-07-16' '2015-07-17' '2015-07-18' '2015-07-19'\n",
      " '2015-07-20' '2015-07-21' '2015-07-22' '2015-07-23' '2015-07-24'\n",
      " '2015-07-25' '2015-07-26' '2015-07-27' '2015-07-28' '2015-07-29'\n",
      " '2015-07-30' '2015-07-31' '2015-08-01' '2015-08-02' '2015-08-03'\n",
      " '2015-08-04' '2015-08-05' '2015-08-06' '2015-08-07' '2015-08-08'\n",
      " '2015-08-09' '2015-08-10' '2015-08-11' '2015-08-12' '2015-08-13'\n",
      " '2015-08-14' '2015-08-15' '2015-08-16' '2015-08-17' '2015-08-18'\n",
      " '2015-08-19' '2015-08-20' '2015-08-21' '2015-08-22' '2015-08-23'\n",
      " '2015-08-24' '2015-08-25' '2015-08-26' '2015-08-27' '2015-08-28'\n",
      " '2015-08-29' '2015-08-30' '2015-08-31' '2015-09-01' '2015-09-02'\n",
      " '2015-09-03' '2015-09-04' '2015-09-05' '2015-09-06' '2015-09-07'\n",
      " '2015-09-08' '2015-09-09' '2015-09-10' '2015-09-11' '2015-09-12'\n",
      " '2015-09-13' '2015-09-14' '2015-09-15' '2015-09-16' '2015-09-17'\n",
      " '2015-09-18' '2015-09-19' '2015-09-20' '2015-09-21' '2015-09-22'\n",
      " '2015-09-23' '2015-09-26' '2015-09-27' '2015-09-28' '2015-09-29'\n",
      " '2015-09-30' '2015-10-01' '2015-10-02' '2015-10-03' '2015-10-04'\n",
      " '2015-10-06' '2015-10-07' '2015-10-08' '2015-10-09' '2015-10-10'\n",
      " '2015-10-11' '2015-10-13' '2015-10-14' '2015-10-15' '2015-10-16'\n",
      " '2015-10-17' '2015-10-18' '2015-10-20' '2015-10-21' '2015-10-22'\n",
      " '2015-10-23' '2015-10-24' '2015-10-25' '2015-10-27' '2015-10-28'\n",
      " '2015-10-29' '2015-10-30' '2015-10-31' '2015-11-01' '2015-11-02'\n",
      " '2015-11-03' '2015-11-04' '2015-11-05' '2015-11-06' '2015-11-07'\n",
      " '2015-11-08' '2015-11-09' '2015-11-10' '2015-11-11' '2015-11-12'\n",
      " '2015-11-13' '2015-11-14' '2015-11-15' '2015-11-16' '2015-11-17'\n",
      " '2015-11-18' '2015-11-19' '2015-11-20' '2015-11-21' '2015-11-22'\n",
      " '2015-11-23' '2015-11-24' '2015-11-25' '2015-11-26' '2015-11-27'\n",
      " '2015-11-28' '2015-11-29' '2015-11-30' '2015-12-01' '2015-12-02'\n",
      " '2015-12-03' '2015-12-04' '2015-12-05' '2015-12-06' '2015-12-07'\n",
      " '2015-12-08' '2015-12-09' '2015-12-10' '2015-12-11' '2015-12-12'\n",
      " '2015-12-13' '2015-12-14' '2015-12-15' '2015-12-16' '2015-12-17'\n",
      " '2015-12-18' '2015-12-19' '2015-12-20' '2015-12-21' '2015-12-22'\n",
      " '2015-12-23' '2015-12-24' '2015-12-26' '2015-12-27' '2015-12-28'\n",
      " '2015-12-29' '2015-12-30' '2015-12-31']\n",
      "-----------------------------------\n",
      "La columna: time:\n",
      "Cantidad de categorias: 16382\n",
      "Los valores unicos son: ['11:38:36' '11:57:40' '12:12:28' ... '20:51:07' '21:14:37' '22:09:54']\n",
      "-----------------------------------\n",
      "La columna: pizza_type_id:\n",
      "Cantidad de categorias: 32\n",
      "Los valores unicos son: ['hawaiian' 'classic_dlx' 'five_cheese' 'ital_supr' 'mexicana' 'thai_ckn'\n",
      " 'prsc_argla' 'bbq_ckn' 'the_greek' 'spinach_supr' 'green_garden'\n",
      " 'ital_cpcllo' 'spicy_ital' 'spin_pesto' 'veggie_veg' 'southw_ckn'\n",
      " 'cali_ckn' 'pepperoni' 'ckn_pesto' 'big_meat' 'soppressata' 'four_cheese'\n",
      " 'napolitana' 'calabrese' 'ital_veggie' 'mediterraneo' 'peppr_salami'\n",
      " 'spinach_fet' 'sicilian' 'ckn_alfredo' 'pep_msh_pep' 'brie_carre']\n",
      "-----------------------------------\n",
      "La columna: size:\n",
      "Cantidad de categorias: 5\n",
      "Los valores unicos son: ['M' 'L' 'S' 'XL' 'XXL']\n",
      "-----------------------------------\n",
      "La columna: name:\n",
      "Cantidad de categorias: 32\n",
      "Los valores unicos son: ['The Hawaiian Pizza' 'The Classic Deluxe Pizza' 'The Five Cheese Pizza'\n",
      " 'The Italian Supreme Pizza' 'The Mexicana Pizza' 'The Thai Chicken Pizza'\n",
      " 'The Prosciutto and Arugula Pizza' 'The Barbecue Chicken Pizza'\n",
      " 'The Greek Pizza' 'The Spinach Supreme Pizza' 'The Green Garden Pizza'\n",
      " 'The Italian Capocollo Pizza' 'The Spicy Italian Pizza'\n",
      " 'The Spinach Pesto Pizza' 'The Vegetables + Vegetables Pizza'\n",
      " 'The Southwest Chicken Pizza' 'The California Chicken Pizza'\n",
      " 'The Pepperoni Pizza' 'The Chicken Pesto Pizza' 'The Big Meat Pizza'\n",
      " 'The Soppressata Pizza' 'The Four Cheese Pizza' 'The Napolitana Pizza'\n",
      " 'The Calabrese Pizza' 'The Italian Vegetables Pizza'\n",
      " 'The Mediterranean Pizza' 'The Pepper Salami Pizza'\n",
      " 'The Spinach and Feta Pizza' 'The Sicilian Pizza'\n",
      " 'The Chicken Alfredo Pizza' 'The Pepperoni, Mushroom, and Peppers Pizza'\n",
      " 'The Brie Carre Pizza']\n",
      "-----------------------------------\n",
      "La columna: category:\n",
      "Cantidad de categorias: 4\n",
      "Los valores unicos son: ['Classic' 'Veggie' 'Supreme' 'Chicken']\n",
      "-----------------------------------\n",
      "La columna: ingredients:\n",
      "Cantidad de categorias: 32\n",
      "Los valores unicos son: ['Sliced Ham, Pineapple, Mozzarella Cheese'\n",
      " 'Pepperoni, Mushrooms, Red Onions, Red Peppers, Bacon'\n",
      " 'Mozzarella Cheese, Provolone Cheese, Smoked Gouda Cheese, Romano Cheese, Blue Cheese, Garlic'\n",
      " 'Calabrese Salami, Capocollo, Tomatoes, Red Onions, Green Olives, Garlic'\n",
      " 'Tomatoes, Red Peppers, Jalapeno Peppers, Red Onions, Cilantro, Corn, Chipotle Sauce, Garlic'\n",
      " 'Chicken, Pineapple, Tomatoes, Red Peppers, Thai Sweet Chilli Sauce'\n",
      " 'Prosciutto di San Daniele, Arugula, Mozzarella Cheese'\n",
      " 'Barbecued Chicken, Red Peppers, Green Peppers, Tomatoes, Red Onions, Barbecue Sauce'\n",
      " 'Kalamata Olives, Feta Cheese, Tomatoes, Garlic, Beef Chuck Roast, Red Onions'\n",
      " 'Spinach, Red Onions, Pepperoni, Tomatoes, Artichokes, Kalamata Olives, Garlic, Asiago Cheese'\n",
      " 'Spinach, Mushrooms, Tomatoes, Green Olives, Feta Cheese'\n",
      " 'Capocollo, Red Peppers, Tomatoes, Goat Cheese, Garlic, Oregano'\n",
      " 'Capocollo, Tomatoes, Goat Cheese, Artichokes, Peperoncini verdi, Garlic'\n",
      " 'Spinach, Artichokes, Tomatoes, Sun-dried Tomatoes, Garlic, Pesto Sauce'\n",
      " 'Mushrooms, Tomatoes, Red Peppers, Green Peppers, Red Onions, Zucchini, Spinach, Garlic'\n",
      " 'Chicken, Tomatoes, Red Peppers, Red Onions, Jalapeno Peppers, Corn, Cilantro, Chipotle Sauce'\n",
      " 'Chicken, Artichoke, Spinach, Garlic, Jalapeno Peppers, Fontina Cheese, Gouda Cheese'\n",
      " 'Mozzarella Cheese, Pepperoni'\n",
      " 'Chicken, Tomatoes, Red Peppers, Spinach, Garlic, Pesto Sauce'\n",
      " 'Bacon, Pepperoni, Italian Sausage, Chorizo Sausage'\n",
      " 'Soppressata Salami, Fontina Cheese, Mozzarella Cheese, Mushrooms, Garlic'\n",
      " 'Ricotta Cheese, Gorgonzola Piccante Cheese, Mozzarella Cheese, Parmigiano Reggiano Cheese, Garlic'\n",
      " 'Tomatoes, Anchovies, Green Olives, Red Onions, Garlic'\n",
      " 'Nduja Salami, Pancetta, Tomatoes, Red Onions, Friggitello Peppers, Garlic'\n",
      " 'Eggplant, Artichokes, Tomatoes, Zucchini, Red Peppers, Garlic, Pesto Sauce'\n",
      " 'Spinach, Artichokes, Kalamata Olives, Sun-dried Tomatoes, Feta Cheese, Plum Tomatoes, Red Onions'\n",
      " 'Genoa Salami, Capocollo, Pepperoni, Tomatoes, Asiago Cheese, Garlic'\n",
      " 'Spinach, Mushrooms, Red Onions, Feta Cheese, Garlic'\n",
      " 'Coarse Sicilian Salami, Tomatoes, Green Olives, Luganega Sausage, Onions, Garlic'\n",
      " 'Chicken, Red Onions, Red Peppers, Mushrooms, Asiago Cheese, Alfredo Sauce'\n",
      " 'Pepperoni, Mushrooms, Green Peppers'\n",
      " 'Brie Carre Cheese, Prosciutto, Caramelized Onions, Pears, Thyme, Garlic']\n",
      "-----------------------------------\n"
     ]
    }
   ],
   "source": [
    "for colum in df_pizzas.columns:\n",
    "    if df_pizzas[colum].dtype == 'object':\n",
    "        valores_unicos = df_pizzas[colum].unique()\n",
    "        print(f'La columna: {colum}:')\n",
    "        print(f'Cantidad de categorias: {len(valores_unicos)}')\n",
    "        print(f'Los valores unicos son: {valores_unicos}')\n",
    "        print('-----------------------------------')"
   ]
  }
 ],
 "metadata": {
  "kernelspec": {
   "display_name": "base",
   "language": "python",
   "name": "python3"
  },
  "language_info": {
   "codemirror_mode": {
    "name": "ipython",
    "version": 3
   },
   "file_extension": ".py",
   "mimetype": "text/x-python",
   "name": "python",
   "nbconvert_exporter": "python",
   "pygments_lexer": "ipython3",
   "version": "3.11.7"
  }
 },
 "nbformat": 4,
 "nbformat_minor": 2
}
